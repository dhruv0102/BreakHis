{
  "nbformat": 4,
  "nbformat_minor": 0,
  "metadata": {
    "colab": {
      "provenance": [],
      "authorship_tag": "ABX9TyMsdOaYjja/fSA7PVG9QgmI"
    },
    "kernelspec": {
      "name": "python3",
      "display_name": "Python 3"
    },
    "language_info": {
      "name": "python"
    }
  },
  "cells": [
    {
      "cell_type": "code",
      "execution_count": null,
      "metadata": {
        "colab": {
          "base_uri": "https://localhost:8080/"
        },
        "id": "7ejo_sC124Qr",
        "outputId": "cebb5e88-d09a-4283-c016-47cea6e719a7"
      },
      "outputs": [
        {
          "output_type": "stream",
          "name": "stdout",
          "text": [
            "Setting up environment and mounting Google Drive...\n",
            "Mounted at /content/drive\n",
            "Setup complete.\n"
          ]
        }
      ],
      "source": [
        "# This cell imports all necessary libraries and mounts Google Drive.\n",
        "\n",
        "import warnings\n",
        "warnings.filterwarnings('ignore')\n",
        "\n",
        "import pandas as pd\n",
        "import numpy as np\n",
        "import seaborn as sns\n",
        "import matplotlib.pyplot as plt\n",
        "import gc\n",
        "import os\n",
        "\n",
        "import torch\n",
        "import torch.nn as nn\n",
        "import torch.optim as optim\n",
        "from torch.utils.data import TensorDataset, DataLoader, random_split\n",
        "\n",
        "from sklearn.metrics import f1_score, classification_report, confusion_matrix\n",
        "from google.colab import drive\n",
        "\n",
        "print(\"Setting up environment and mounting Google Drive...\")\n",
        "drive.mount('/content/drive')\n",
        "print(\"Setup complete.\")"
      ]
    },
    {
      "cell_type": "code",
      "source": [
        "# We load the 4 training CSVs, combine them, and immediately delete the\n",
        "# original DataFrames to free up RAM.\n",
        "\n",
        "DATA_PATH = '/content/drive/MyDrive/Wafer/'\n",
        "\n",
        "print(\"\\nLoading data...\")\n",
        "\n",
        "try:\n",
        "    if not os.path.exists(DATA_PATH):\n",
        "        raise FileNotFoundError\n",
        "\n",
        "    # The first 2 files have a header, which we use to define the columns\n",
        "    training_1 = pd.read_csv(f\"{DATA_PATH}training_1.csv\", delimiter=';', quotechar='\"')\n",
        "    training_4 = pd.read_csv(f\"{DATA_PATH}training_4.csv\", delimiter=';', quotechar='\"')\n",
        "    column_names = training_1.columns.tolist()\n",
        "\n",
        "    # The other files do not have a header\n",
        "    training_2 = pd.read_csv(f\"{DATA_PATH}training_2.csv\", sep=';', header=None, names=column_names, skiprows=1)\n",
        "    training_3 = pd.read_csv(f\"{DATA_PATH}training_3.csv\", sep=';', header=None, names=column_names, skiprows=1)\n",
        "\n",
        "    print(\"Combining datasets...\")\n",
        "    combined_data = pd.concat([training_1, training_2, training_3, training_4], ignore_index=True)\n",
        "\n",
        "    # --- Memory Management ---\n",
        "    print(\"Freeing up memory by deleting original dataframes...\")\n",
        "    del training_1, training_2, training_3, training_4\n",
        "    gc.collect()\n",
        "\n",
        "    print(f\"Combined data loaded with shape: {combined_data.shape}\")\n",
        "\n",
        "except FileNotFoundError:\n",
        "    print(f\"FATAL ERROR: Could not find data files at '{DATA_PATH}'.\")\n",
        "    print(\"Please make sure the path is correct and that the files are present.\")\n",
        "    combined_data = None"
      ],
      "metadata": {
        "colab": {
          "base_uri": "https://localhost:8080/"
        },
        "id": "e8mOGNp-3EE9",
        "outputId": "2597cda9-336b-48b1-9fd5-8a3597f6af63"
      },
      "execution_count": null,
      "outputs": [
        {
          "output_type": "stream",
          "name": "stdout",
          "text": [
            "\n",
            "Loading data...\n",
            "Combining datasets...\n",
            "Freeing up memory by deleting original dataframes...\n",
            "Combined data loaded with shape: (14007200, 14)\n"
          ]
        }
      ]
    },
    {
      "cell_type": "code",
      "metadata": {
        "id": "7d8d4e84"
      },
      "source": [
        "# Instead of trying to process the entire 14-million-row DataFrame at once,\n",
        "# we process the data one wafer at a time.\n",
        "\n",
        "def process_wafer_to_images(wafer_df, pattern_types, labels_map):\n",
        "    \"\"\"Pivots a single wafer's data into 2D image arrays, handling duplicates and reshaping.\"\"\"\n",
        "    wafer_maps = []\n",
        "    labels = []\n",
        "\n",
        "    # Ensure unique (x, y) pairs by grouping and aggregating before pivoting\n",
        "    # Use mean for aggregation if there are multiple entries with same (x,y),\n",
        "    try:\n",
        "        # Group by x and y, then take the mean of other columns\n",
        "        wafer_df_processed = wafer_df.groupby(['x', 'y'])[pattern_types].mean().reset_index()\n",
        "\n",
        "        min_x, max_x = wafer_df_processed['x'].min(), wafer_df_processed['x'].max()\n",
        "        min_y, max_y = wafer_df_processed['y'].min(), wafer_df_processed['y'].max()\n",
        "\n",
        "        # Calculate the actual dimensions of the wafer data\n",
        "        wafer_height = max_y - min_y + 1\n",
        "        wafer_width = max_x - min_x + 1\n",
        "\n",
        "        # Define the target canvas size\n",
        "        canvas_height = 194\n",
        "        canvas_width = 116\n",
        "\n",
        "        for pattern in pattern_types:\n",
        "            # Now pivot on the processed dataframe with unique (x, y) pairs\n",
        "            wafer_map_2d = wafer_df_processed.pivot(index='y', columns='x', values=pattern).fillna(0)\n",
        "\n",
        "            # Create a canvas based on the wafer map dimensions\n",
        "            canvas = np.zeros((wafer_height, wafer_width))\n",
        "\n",
        "            # Place the wafer map data onto the canvas, adjusting for min_x and min_y\n",
        "            # This assumes the wafer_map_2d's index (y) and columns (x) are relative\n",
        "            # to the wafer's min_y and min_x.\n",
        "            # We need to map the pivoted data onto the canvas based on its actual coordinates.\n",
        "            # Create a temporary canvas of the wafer's actual size\n",
        "            temp_canvas = np.zeros((wafer_height, wafer_width))\n",
        "\n",
        "            # Map the pivoted data to the temporary canvas\n",
        "            # The pivoted DataFrame's index corresponds to y, columns to x\n",
        "            # We need to shift these by min_y and min_x\n",
        "            for row in wafer_df_processed.itertuples():\n",
        "                relative_y = row.y - min_y\n",
        "                relative_x = row.x - min_x\n",
        "                for i, pattern_name in enumerate(pattern_types):\n",
        "                     if pattern_name == pattern:\n",
        "                          temp_canvas[relative_y, relative_x] = getattr(row, pattern_name)\n",
        "\n",
        "\n",
        "            # Now pad the temporary canvas to the target canvas size (194x116)\n",
        "            # Calculate padding amounts\n",
        "            pad_height = canvas_height - wafer_height\n",
        "            pad_width = canvas_width - wafer_width\n",
        "\n",
        "            # Ensure padding is non-negative\n",
        "            pad_top = max(0, pad_height // 2)\n",
        "            pad_bottom = max(0, pad_height - pad_top)\n",
        "            pad_left = max(0, pad_width // 2)\n",
        "            pad_right = max(0, pad_width - pad_left)\n",
        "\n",
        "            # Apply padding\n",
        "            padded_canvas = np.pad(temp_canvas, ((pad_top, pad_bottom), (pad_left, pad_right)), mode='constant', constant_values=0)\n",
        "\n",
        "            # If the wafer is larger than the canvas, crop it\n",
        "            if wafer_height > canvas_height or wafer_width > canvas_width:\n",
        "                padded_canvas = padded_canvas[:canvas_height, :canvas_width]\n",
        "\n",
        "\n",
        "            wafer_maps.append(padded_canvas)\n",
        "            labels.append(labels_map[pattern])\n",
        "\n",
        "    except Exception as e:\n",
        "        print(f\"Error processing wafer: {e}\")\n",
        "        # Return empty LISTS to avoid adding empty numpy arrays to the list\n",
        "        return [], []\n",
        "\n",
        "\n",
        "    return np.array(wafer_maps), np.array(labels)"
      ],
      "execution_count": null,
      "outputs": []
    },
    {
      "cell_type": "code",
      "metadata": {
        "colab": {
          "base_uri": "https://localhost:8080/"
        },
        "id": "20835cf8",
        "outputId": "66981201-431c-4162-bdde-f16f09e78fa3"
      },
      "source": [
        "if combined_data is not None:\n",
        "    print(\"\\nCleaning and converting data types...\")\n",
        "    # Numeric columns are loaded as 'object' due to comma separators. We fix this.\n",
        "    columns_to_convert = ['ring', 'spot', 'trend', 'twospots', 'crescent', 'ring_pure', 'spot_pure', 'trend_pure', 'twospots_pure', 'crescent_pure'] # Include pure columns for conversion\n",
        "    for col in combined_data.columns: # Iterate through all columns to be safe\n",
        "         if col in columns_to_convert and combined_data[col].dtype == 'object':\n",
        "            combined_data[col] = combined_data[col].str.replace(',', '.').astype('float32') # Use float32 to save RAM"
      ],
      "execution_count": null,
      "outputs": [
        {
          "output_type": "stream",
          "name": "stdout",
          "text": [
            "\n",
            "Cleaning and converting data types...\n"
          ]
        }
      ]
    },
    {
      "cell_type": "code",
      "metadata": {
        "id": "472351d7"
      },
      "source": [
        "if combined_data is not None:\n",
        "    # Drop '_pure' columns as they are not needed for the analysis\n",
        "    pure_columns = [col for col in combined_data.columns if '_pure' in col]\n",
        "    combined_data = combined_data.drop(columns=pure_columns + ['lot'], errors='ignore') # Use errors='ignore' if 'lot' might be missing"
      ],
      "execution_count": null,
      "outputs": []
    },
    {
      "cell_type": "code",
      "metadata": {
        "colab": {
          "base_uri": "https://localhost:8080/"
        },
        "id": "c441a246",
        "outputId": "7a535dc4-8f3a-4cf0-90c0-6f1b42b5b57f"
      },
      "source": [
        "if combined_data is not None:\n",
        "    # Process Wafer by Wafer\n",
        "    all_wafer_maps = []\n",
        "    all_labels = []\n",
        "\n",
        "    pattern_types = ['ring', 'spot', 'trend', 'twospots', 'crescent'] # Including the optional 'trend'\n",
        "    labels_map = {name: i for i, name in enumerate(pattern_types)}\n",
        "    num_wafers = combined_data['wafer'].nunique()\n",
        "\n",
        "    print(f\"Starting to process {num_wafers} unique wafers\")\n",
        "    for i, (wafer_id, group) in enumerate(combined_data.groupby('wafer')):\n",
        "        if (i + 1) % 50 == 0:\n",
        "            print(f\"  Processed {i+1}/{num_wafers} wafers...\")\n",
        "            gc.collect() # garbage collection periodically to save up the ram\n",
        "\n",
        "\n",
        "        w_maps, w_labels = process_wafer_to_images(group, pattern_types, labels_map)\n",
        "        if w_maps.size > 0: # Check if w_maps is not an empty numpy array\n",
        "             all_wafer_maps.extend(w_maps)\n",
        "             all_labels.extend(w_labels)\n",
        "        else:\n",
        "             print(f\"Skipping wafer {wafer_id} due to processing error or empty result.\")\n",
        "\n",
        "        del w_maps, w_labels # delete temporary variables"
      ],
      "execution_count": null,
      "outputs": [
        {
          "output_type": "stream",
          "name": "stdout",
          "text": [
            "Starting to process 800 unique wafers (this may take a few minutes)...\n",
            "  Processed 50/800 wafers...\n",
            "  Processed 100/800 wafers...\n",
            "  Processed 150/800 wafers...\n",
            "  Processed 200/800 wafers...\n",
            "  Processed 250/800 wafers...\n",
            "  Processed 300/800 wafers...\n",
            "  Processed 350/800 wafers...\n",
            "  Processed 400/800 wafers...\n",
            "  Processed 450/800 wafers...\n",
            "  Processed 500/800 wafers...\n",
            "  Processed 550/800 wafers...\n",
            "  Processed 600/800 wafers...\n",
            "  Processed 650/800 wafers...\n",
            "  Processed 700/800 wafers...\n",
            "  Processed 750/800 wafers...\n",
            "  Processed 800/800 wafers...\n"
          ]
        }
      ]
    },
    {
      "cell_type": "code",
      "metadata": {
        "colab": {
          "base_uri": "https://localhost:8080/"
        },
        "id": "009b4b27",
        "outputId": "fa3c10d3-ace2-4767-9fdd-785eddab21a4"
      },
      "source": [
        "if combined_data is not None:\n",
        "    # Final Conversion and Cleanup\n",
        "    print(\"\\nConverting lists to final NumPy arrays...\")\n",
        "    # Ensure there's data before converting to numpy arrays\n",
        "    if all_wafer_maps:\n",
        "         wafer_maps = np.array(all_wafer_maps)\n",
        "         labels = np.array(all_labels)\n",
        "\n",
        "         print(\"\\nData reshaped successfully.\")\n",
        "         print(f\"Shape of wafer maps tensor: {wafer_maps.shape}\")\n",
        "         print(f\"Shape of labels tensor: {labels.shape}\")\n",
        "    else:\n",
        "         print(\"\\nNo wafer maps were successfully processed.\")\n",
        "         wafer_maps = np.array([])\n",
        "         labels = np.array([])\n",
        "\n",
        "\n",
        "    print(\"Clearing large DataFrame from memory...\")\n",
        "    del combined_data\n",
        "    if 'all_wafer_maps' in locals(): del all_wafer_maps\n",
        "    if 'all_labels' in locals(): del all_labels\n",
        "    gc.collect()"
      ],
      "execution_count": null,
      "outputs": [
        {
          "output_type": "stream",
          "name": "stdout",
          "text": [
            "\n",
            "Converting lists to final NumPy arrays...\n",
            "\n",
            "Data reshaped successfully.\n",
            "Shape of wafer maps tensor: (4000, 194, 116)\n",
            "Shape of labels tensor: (4000,)\n",
            "Clearing large DataFrame from memory...\n"
          ]
        }
      ]
    },
    {
      "cell_type": "code",
      "source": [
        "# Create PyTorch Datasets and DataLoaders\n",
        "\n",
        "# The data is now prepared for PyTorch. We add a 'channel' dimension for the\n",
        "# CNN, convert arrays to Tensors, split into training (80%) and validation\n",
        "# (20%) sets, and create DataLoaders to feed data to the model in batches.\n",
        "\n",
        "if 'wafer_maps' in locals():\n",
        "    wafer_maps = np.expand_dims(wafer_maps, axis=1)\n",
        "    print(f\"\\nShape of wafer maps after adding channel dimension: {wafer_maps.shape}\")\n",
        "\n",
        "    # Convert data to PyTorch tensors\n",
        "    X_tensor = torch.tensor(wafer_maps, dtype=torch.float32)\n",
        "    y_tensor = torch.tensor(labels, dtype=torch.long)\n",
        "\n",
        "    # Free up numpy array memory\n",
        "    del wafer_maps, labels\n",
        "    gc.collect()\n",
        "\n",
        "    # Create a full dataset\n",
        "    dataset = TensorDataset(X_tensor, y_tensor)\n",
        "\n",
        "    # Split into training and validation sets\n",
        "    train_size = int(0.8 * len(dataset))\n",
        "    val_size = len(dataset) - train_size\n",
        "    train_dataset, val_dataset = random_split(dataset, [train_size, val_size])\n",
        "\n",
        "    print(f\"\\nTraining set size: {len(train_dataset)}\")\n",
        "    print(f\"Validation set size: {len(val_dataset)}\")\n",
        "\n",
        "    # Create DataLoaders\n",
        "    BATCH_SIZE = 64\n",
        "    train_loader = DataLoader(train_dataset, batch_size=BATCH_SIZE, shuffle=True)\n",
        "    val_loader = DataLoader(val_dataset, batch_size=BATCH_SIZE, shuffle=False)\n",
        "    print(\"PyTorch DataLoaders created successfully.\")\n",
        "\n"
      ],
      "metadata": {
        "id": "6V-ONCet36mz",
        "colab": {
          "base_uri": "https://localhost:8080/"
        },
        "outputId": "f7847fb7-dd1e-4823-81ac-74f5de54bf80"
      },
      "execution_count": null,
      "outputs": [
        {
          "output_type": "stream",
          "name": "stdout",
          "text": [
            "\n",
            "Shape of wafer maps after adding channel dimension: (4000, 1, 194, 116)\n",
            "\n",
            "Training set size: 3200\n",
            "Validation set size: 800\n",
            "PyTorch DataLoaders created successfully.\n"
          ]
        }
      ]
    },
    {
      "cell_type": "code",
      "metadata": {
        "id": "78093ebe"
      },
      "source": [
        "# Add a 'channel' dimension for the CNN\n",
        "if 'wafer_maps' in locals():\n",
        "    wafer_maps = np.expand_dims(wafer_maps, axis=1)\n",
        "    print(f\"\\nShape of wafer maps after adding channel dimension: {wafer_maps.shape}\")"
      ],
      "execution_count": null,
      "outputs": []
    },
    {
      "cell_type": "code",
      "metadata": {
        "id": "e3f1976e"
      },
      "source": [
        "# Convert data to PyTorch tensors\n",
        "if 'wafer_maps' in locals() and 'labels' in locals():\n",
        "    X_tensor = torch.tensor(wafer_maps, dtype=torch.float32)\n",
        "    y_tensor = torch.tensor(labels, dtype=torch.long)\n",
        "\n",
        "    # Free up numpy array memory\n",
        "    del wafer_maps, labels\n",
        "    gc.collect()"
      ],
      "execution_count": null,
      "outputs": []
    },
    {
      "cell_type": "code",
      "metadata": {
        "id": "6b1986cb"
      },
      "source": [
        "# Create a full dataset\n",
        "if 'X_tensor' in locals() and 'y_tensor' in locals():\n",
        "    dataset = TensorDataset(X_tensor, y_tensor)"
      ],
      "execution_count": null,
      "outputs": []
    },
    {
      "cell_type": "code",
      "metadata": {
        "colab": {
          "base_uri": "https://localhost:8080/"
        },
        "id": "df29801f",
        "outputId": "9f1e80e8-455a-4060-c36f-81ecfceff84f"
      },
      "source": [
        "# Split into training and validation sets\n",
        "if 'dataset' in locals():\n",
        "    train_size = int(0.8 * len(dataset))\n",
        "    val_size = len(dataset) - train_size\n",
        "    train_dataset, val_dataset = random_split(dataset, [train_size, val_size])\n",
        "\n",
        "    print(f\"\\nTraining set size: {len(train_dataset)}\")\n",
        "    print(f\"Validation set size: {len(val_dataset)}\")"
      ],
      "execution_count": null,
      "outputs": [
        {
          "output_type": "stream",
          "name": "stdout",
          "text": [
            "\n",
            "Training set size: 3200\n",
            "Validation set size: 800\n"
          ]
        }
      ]
    },
    {
      "cell_type": "code",
      "metadata": {
        "colab": {
          "base_uri": "https://localhost:8080/"
        },
        "id": "6b166d65",
        "outputId": "b6092668-d4e0-4abc-d3c4-0ba04564f93d"
      },
      "source": [
        "# Create DataLoaders\n",
        "if 'train_dataset' in locals() and 'val_dataset' in locals():\n",
        "    BATCH_SIZE = 64\n",
        "    train_loader = DataLoader(train_dataset, batch_size=BATCH_SIZE, shuffle=True)\n",
        "    val_loader = DataLoader(val_dataset, batch_size=BATCH_SIZE, shuffle=False)\n",
        "    print(\"PyTorch DataLoaders created successfully.\")"
      ],
      "execution_count": null,
      "outputs": [
        {
          "output_type": "stream",
          "name": "stdout",
          "text": [
            "PyTorch DataLoaders created successfully.\n"
          ]
        }
      ]
    },
    {
      "cell_type": "code",
      "source": [
        "# Define the CNN Model\n",
        "# define a PyTorch Deep Learning mode. The architecture has two\n",
        "# convolutional layers for feature extraction and a final linear\n",
        "# layer for classification.\n",
        "\n",
        "if 'train_loader' in locals():\n",
        "    class WaferCNN(nn.Module):\n",
        "        def __init__(self, num_classes=5, dropout_rate=0.5):\n",
        "            super(WaferCNN, self).__init__()\n",
        "            self.layer1 = nn.Sequential(\n",
        "                nn.Conv2d(in_channels=1, out_channels=8, kernel_size=5, stride=1, padding=2),\n",
        "                nn.BatchNorm2d(8),\n",
        "                nn.ReLU(),\n",
        "                nn.MaxPool2d(kernel_size=2, stride=2),\n",
        "                nn.Dropout(p=dropout_rate))\n",
        "\n",
        "\n",
        "            self.layer2 = nn.Sequential(\n",
        "                nn.Conv2d(in_channels=8, out_channels=16, kernel_size=5, stride=1, padding=2),\n",
        "                nn.BatchNorm2d(16),\n",
        "                nn.ReLU(),\n",
        "                nn.MaxPool2d(kernel_size=2, stride=2),\n",
        "                nn.Dropout(p=dropout_rate))\n",
        "\n",
        "\n",
        "            # Input size to FC layer is calculated from the output of the conv layers:\n",
        "            # Initial: 194x116 -> Pool1: 97x58 -> Pool2: 48x29\n",
        "            # Reduced filters: 48 * 29 * 16\n",
        "            self.fc = nn.Linear(48 * 29 * 16, num_classes) # Adjusted input size to FC\n",
        "\n",
        "        def forward(self, x):\n",
        "            out = self.layer1(x)\n",
        "            out = self.layer2(out)\n",
        "            out = out.reshape(out.size(0), -1) # Flatten the feature maps\n",
        "            out = self.fc(out)\n",
        "            return out\n",
        "\n",
        "    device = torch.device('cuda' if torch.cuda.is_available() else 'cpu')\n",
        "    print(f\"\\nUsing device: {device}\")\n",
        "\n",
        "    model = WaferCNN(num_classes=len(pattern_types)).to(device)\n",
        "    print(\"\\nModel Architecture:\")\n",
        "    print(model)"
      ],
      "metadata": {
        "id": "S0Xm_bIs3_Lx",
        "colab": {
          "base_uri": "https://localhost:8080/"
        },
        "outputId": "8f5f489d-a0f8-4f5e-8052-e4879aff17e3"
      },
      "execution_count": null,
      "outputs": [
        {
          "output_type": "stream",
          "name": "stdout",
          "text": [
            "\n",
            "Using device: cpu\n",
            "\n",
            "Model Architecture:\n",
            "WaferCNN(\n",
            "  (layer1): Sequential(\n",
            "    (0): Conv2d(1, 8, kernel_size=(5, 5), stride=(1, 1), padding=(2, 2))\n",
            "    (1): BatchNorm2d(8, eps=1e-05, momentum=0.1, affine=True, track_running_stats=True)\n",
            "    (2): ReLU()\n",
            "    (3): MaxPool2d(kernel_size=2, stride=2, padding=0, dilation=1, ceil_mode=False)\n",
            "    (4): Dropout(p=0.5, inplace=False)\n",
            "  )\n",
            "  (layer2): Sequential(\n",
            "    (0): Conv2d(8, 16, kernel_size=(5, 5), stride=(1, 1), padding=(2, 2))\n",
            "    (1): BatchNorm2d(16, eps=1e-05, momentum=0.1, affine=True, track_running_stats=True)\n",
            "    (2): ReLU()\n",
            "    (3): MaxPool2d(kernel_size=2, stride=2, padding=0, dilation=1, ceil_mode=False)\n",
            "    (4): Dropout(p=0.5, inplace=False)\n",
            "  )\n",
            "  (fc): Linear(in_features=22272, out_features=5, bias=True)\n",
            ")\n"
          ]
        }
      ]
    },
    {
      "cell_type": "code",
      "metadata": {
        "colab": {
          "base_uri": "https://localhost:8080/"
        },
        "id": "7ff3009d",
        "outputId": "f7b6ba60-e279-4235-d3fb-9c4e4e2227f1"
      },
      "source": [
        "# Define Loss Function and Optimizer\n",
        "\n",
        "if 'model' in locals():\n",
        "    criterion = nn.CrossEntropyLoss()\n",
        "    optimizer = optim.Adam(model.parameters(), lr=0.001)\n",
        "    print(\"Loss function and optimizer defined.\")"
      ],
      "execution_count": null,
      "outputs": [
        {
          "output_type": "stream",
          "name": "stdout",
          "text": [
            "Loss function and optimizer defined.\n"
          ]
        }
      ]
    },
    {
      "cell_type": "code",
      "metadata": {
        "colab": {
          "base_uri": "https://localhost:8080/"
        },
        "id": "74076b8f",
        "outputId": "bf632b83-ae54-4f1d-9799-b743678cd6d1"
      },
      "source": [
        "# Initialize variables for training\n",
        "\n",
        "if 'model' in locals() and 'train_loader' in locals() and 'val_loader' in locals():\n",
        "    NUM_EPOCHS = 5\n",
        "    train_losses = []\n",
        "    val_losses = []\n",
        "    train_accuracies = []\n",
        "    val_accuracies = []\n",
        "    print(\"\\nTraining variables initialized.\")"
      ],
      "execution_count": null,
      "outputs": [
        {
          "output_type": "stream",
          "name": "stdout",
          "text": [
            "\n",
            "Training variables initialized.\n"
          ]
        }
      ]
    },
    {
      "cell_type": "code",
      "metadata": {
        "colab": {
          "base_uri": "https://localhost:8080/"
        },
        "id": "a0ba2170",
        "outputId": "654958cd-3e10-4398-ae96-3e9705cb7446"
      },
      "source": [
        "# Training Loop\n",
        "\n",
        "if 'model' in locals() and 'train_loader' in locals() and 'val_loader' in locals():\n",
        "    print(\"\\nStarting model training...\")\n",
        "    for epoch in range(NUM_EPOCHS):\n",
        "        # Training\n",
        "        model.train()\n",
        "        running_loss = 0.0\n",
        "        correct_train = 0\n",
        "        total_train = 0\n",
        "\n",
        "        for images, labels in train_loader:\n",
        "            images, labels = images.to(device), labels.to(device)\n",
        "\n",
        "            outputs = model(images)\n",
        "            loss = criterion(outputs, labels)\n",
        "\n",
        "            optimizer.zero_grad()\n",
        "            loss.backward()\n",
        "            optimizer.step()\n",
        "\n",
        "            running_loss += loss.item()\n",
        "\n",
        "            _, predicted = torch.max(outputs.data, 1)\n",
        "            total_train += labels.size(0)\n",
        "            correct_train += (predicted == labels).sum().item()\n",
        "\n",
        "\n",
        "        epoch_train_loss = running_loss / len(train_loader)\n",
        "        epoch_train_accuracy = 100 * correct_train / total_train\n",
        "        train_losses.append(epoch_train_loss)\n",
        "        train_accuracies.append(epoch_train_accuracy)\n",
        "\n",
        "\n",
        "        # Validation Phase\n",
        "        model.eval()\n",
        "        val_loss = 0.0\n",
        "        correct_val = 0\n",
        "        total_val = 0\n",
        "        with torch.no_grad():\n",
        "            for images, labels in val_loader:\n",
        "                images, labels = images.to(device), labels.to(device)\n",
        "                outputs = model(images)\n",
        "                loss = criterion(outputs, labels)\n",
        "                val_loss += loss.item()\n",
        "\n",
        "                _, predicted = torch.max(outputs.data, 1)\n",
        "                total_val += labels.size(0)\n",
        "                correct_val += (predicted == labels).sum().item()\n",
        "\n",
        "\n",
        "        epoch_val_loss = val_loss / len(val_loader)\n",
        "        epoch_val_accuracy = 100 * correct_val / total_val\n",
        "        val_losses.append(epoch_val_loss)\n",
        "        val_accuracies.append(epoch_val_accuracy)\n",
        "\n",
        "\n",
        "        print(f\"Epoch [{epoch+1}/{NUM_EPOCHS}], \"\n",
        "              f\"Train Loss: {epoch_train_loss:.4f}, Train Acc: {epoch_train_accuracy:.2f}%, \"\n",
        "              f\"Val Loss: {epoch_val_loss:.4f}, Val Acc: {epoch_val_accuracy:.2f}%\")\n",
        "\n",
        "\n",
        "    print(\"Finished Training\")\n",
        "\n",
        "else:\n",
        "    print(\"\\nModel, train_loader, or val_loader not available. Please ensure previous steps were executed.\")"
      ],
      "execution_count": null,
      "outputs": [
        {
          "output_type": "stream",
          "name": "stdout",
          "text": [
            "\n",
            "Starting model training...\n",
            "Epoch [1/5], Train Loss: 0.9348, Train Acc: 57.44%, Val Loss: 0.8082, Val Acc: 70.50%\n",
            "Epoch [2/5], Train Loss: 0.5393, Train Acc: 75.34%, Val Loss: 0.7005, Val Acc: 61.88%\n",
            "Epoch [3/5], Train Loss: 0.3205, Train Acc: 91.16%, Val Loss: 0.2830, Val Acc: 100.00%\n",
            "Epoch [4/5], Train Loss: 0.2105, Train Acc: 94.34%, Val Loss: 0.2815, Val Acc: 98.38%\n",
            "Epoch [5/5], Train Loss: 0.1317, Train Acc: 97.31%, Val Loss: 0.0879, Val Acc: 100.00%\n",
            "Finished Training\n"
          ]
        }
      ]
    },
    {
      "cell_type": "code",
      "metadata": {
        "colab": {
          "base_uri": "https://localhost:8080/",
          "height": 487
        },
        "id": "9a53992e",
        "outputId": "69bc385c-567f-4341-aa26-93073e554a4f"
      },
      "source": [
        "# Plot learning curves\n",
        "\n",
        "if 'train_losses' in locals() and 'val_losses' in locals() and 'train_accuracies' in locals() and 'val_accuracies' in locals() and 'NUM_EPOCHS' in locals():\n",
        "    plt.figure(figsize=(12, 5))\n",
        "    plt.subplot(1, 2, 1)\n",
        "    plt.plot(range(1, NUM_EPOCHS + 1), train_losses, label='Training Loss')\n",
        "    plt.plot(range(1, NUM_EPOCHS + 1), val_losses, label='Validation Loss')\n",
        "    plt.xlabel('Epoch')\n",
        "    plt.ylabel('Loss')\n",
        "    plt.title('Training and Validation Loss')\n",
        "    plt.legend()\n",
        "    plt.grid(True)\n",
        "\n",
        "    plt.subplot(1, 2, 2)\n",
        "    plt.plot(range(1, NUM_EPOCHS + 1), train_accuracies, label='Training Accuracy')\n",
        "    plt.plot(range(1, NUM_EPOCHS + 1), val_accuracies, label='Validation Accuracy')\n",
        "    plt.xlabel('Epoch')\n",
        "    plt.ylabel('Accuracy (%)')\n",
        "    plt.title('Training and Validation Accuracy')\n",
        "    plt.legend()\n",
        "    plt.grid(True)\n",
        "\n",
        "    plt.show()\n",
        "else:\n",
        "    print(\"\\nLearning curve data not available. Please ensure the training loop was executed.\")"
      ],
      "execution_count": null,
      "outputs": [
        {
          "output_type": "display_data",
          "data": {
            "text/plain": [
              "<Figure size 1200x500 with 2 Axes>"
            ],
            "image/png": "[encoded data removed]"
          },
          "metadata": {}
        }
      ]
    },
    {
      "cell_type": "code",
      "source": [
        "# evaluate the final model's performance on the validation set and calculate\n",
        "# the F1 score and also generate a classification report and a #confusion matrix\n",
        "\n",
        "if 'model' in locals():\n",
        "    model.eval()\n",
        "    all_preds = []\n",
        "    all_labels = []\n",
        "\n",
        "    with torch.no_grad():\n",
        "        for images, labels in val_loader:\n",
        "            images = images.to(device)\n",
        "            # We don't need to move labels to device here, just for comparison\n",
        "            outputs = model(images)\n",
        "            _, predicted = torch.max(outputs.data, 1)\n",
        "            all_preds.extend(predicted.cpu().numpy())\n",
        "            all_labels.extend(labels.numpy())\n",
        "\n",
        "    print(\"\\n--- Model Evaluation ---\")\n",
        "    # F1 Score (as required)\n",
        "    f1 = f1_score(all_labels, all_preds, average='macro')\n",
        "    print(f\"\\nF1 Score (Macro): {f1:.4f}\")\n",
        "\n",
        "    print(\"\\nClassification Report:\")\n",
        "    print(classification_report(all_labels, all_preds, target_names=pattern_types))\n",
        "\n",
        "    print(\"\\nConfusion Matrix:\")\n",
        "    cm = confusion_matrix(all_labels, all_preds)\n",
        "    plt.figure(figsize=(10, 7))\n",
        "    sns.heatmap(cm, annot=True, fmt='d', cmap='Blues', xticklabels=pattern_types, yticklabels=pattern_types)\n",
        "    plt.xlabel('Predicted')\n",
        "    plt.ylabel('True')\n",
        "    plt.title('Confusion Matrix')\n",
        "    plt.show()\n",
        "\n"
      ],
      "metadata": {
        "id": "l8_u6CEg4AC5",
        "colab": {
          "base_uri": "https://localhost:8080/",
          "height": 988
        },
        "outputId": "2d16a47a-4448-4159-d3db-e2fc651acf23"
      },
      "execution_count": null,
      "outputs": [
        {
          "output_type": "stream",
          "name": "stdout",
          "text": [
            "\n",
            "--- Model Evaluation ---\n",
            "\n",
            "F1 Score (Macro): 1.0000\n",
            "\n",
            "Classification Report:\n",
            "              precision    recall  f1-score   support\n",
            "\n",
            "        ring       1.00      1.00      1.00       180\n",
            "        spot       1.00      1.00      1.00       162\n",
            "       trend       1.00      1.00      1.00       150\n",
            "    twospots       1.00      1.00      1.00       151\n",
            "    crescent       1.00      1.00      1.00       157\n",
            "\n",
            "    accuracy                           1.00       800\n",
            "   macro avg       1.00      1.00      1.00       800\n",
            "weighted avg       1.00      1.00      1.00       800\n",
            "\n",
            "\n",
            "Confusion Matrix:\n"
          ]
        },
        {
          "output_type": "display_data",
          "data": {
            "text/plain": [
              "<Figure size 1000x700 with 2 Axes>"
            ],
            "image/png": "[encoded data removed]"
          },
          "metadata": {}
        }
      ]
    },
    {
      "cell_type": "code",
      "source": [
        "# save the trained weights and provide a function to simulate the\n",
        "# required inference script. This function can load the saved model and make\n",
        "# predictions on new data\n",
        "\n",
        "if 'model' in locals():\n",
        "    # Save the trained model's state dictionary\n",
        "    MODEL_PATH = 'wafer_classification_model.pth'\n",
        "    torch.save(model.state_dict(), MODEL_PATH)\n",
        "    print(f\"\\nModel saved to {MODEL_PATH}\")\n",
        "\n",
        "    def perform_inference(input_data_loader, model_path, device, num_classes):\n",
        "\n",
        "        inference_model = WaferCNN(num_classes=num_classes).to(device)\n",
        "        inference_model.load_state_dict(torch.load(model_path))\n",
        "        inference_model.eval()\n",
        "\n",
        "        predictions = []\n",
        "        with torch.no_grad():\n",
        "            # For inference, the dataloader would not have labels\n",
        "            for images, _ in input_data_loader:\n",
        "                images = images.to(device)\n",
        "                outputs = inference_model(images)\n",
        "                _, predicted = torch.max(outputs.data, 1)\n",
        "                predictions.extend(predicted.cpu().numpy())\n",
        "        return predictions\n",
        "\n",
        "    # Example of using the inference function on our validation data\n",
        "    predicted_labels = perform_inference(val_loader, MODEL_PATH, device, num_classes=len(pattern_types))\n",
        "\n",
        "    reverse_labels_map = {i: name for name, i in labels_map.items()}\n",
        "    predicted_class_names = [reverse_labels_map[p] for p in predicted_labels]\n",
        "\n",
        "    print(\"\\nSample of 15 predictions from the inference function:\")\n",
        "    print(predicted_class_names[:15])"
      ],
      "metadata": {
        "id": "50jipP844AJO",
        "colab": {
          "base_uri": "https://localhost:8080/"
        },
        "outputId": "f33373dd-6d94-44b1-ad38-acbfa868411b"
      },
      "execution_count": null,
      "outputs": [
        {
          "output_type": "stream",
          "name": "stdout",
          "text": [
            "\n",
            "Model saved to wafer_classification_model.pth\n",
            "\n",
            "Sample of 15 predictions from the inference function:\n",
            "['spot', 'spot', 'ring', 'spot', 'trend', 'twospots', 'spot', 'spot', 'spot', 'spot', 'ring', 'ring', 'spot', 'twospots', 'crescent']\n"
          ]
        }
      ]
    },
    {
      "cell_type": "code",
      "source": [],
      "metadata": {
        "id": "G3jnODKf5CzY"
      },
      "execution_count": null,
      "outputs": []
    },
    {
      "cell_type": "code",
      "metadata": {
        "colab": {
          "base_uri": "https://localhost:8080/",
          "height": 382
        },
        "id": "ae3ddee6",
        "outputId": "3cfffa16-a1e1-4c39-e44a-f62dd6fd99dc"
      },
      "source": [
        "# Load Test Data\n",
        "\n",
        "print(\"[TESTING] Loading test data from 'test.csv'...\")\n",
        "try:\n",
        "    test_df = pd.read_csv(f\"{DATA_PATH}test.csv\", delimiter=';', quotechar='\"')\n",
        "    print(f\"[TESTING] Test data loaded with shape: {test_df.shape}\")\n",
        "\n",
        "    # Display the head of the test data\n",
        "    print(\"\\n[TESTING] Sample of Raw Test Data:\")\n",
        "    display(test_df.head())\n",
        "\n",
        "except FileNotFoundError:\n",
        "    print(\"FATAL ERROR: 'test.csv' not found. Skipping testing phase.\")\n",
        "    test_df = None"
      ],
      "execution_count": null,
      "outputs": [
        {
          "output_type": "stream",
          "name": "stdout",
          "text": [
            "[TESTING] Loading test data from 'test.csv'...\n",
            "[TESTING] Test data loaded with shape: (3501800, 14)\n",
            "\n",
            "[TESTING] Sample of Raw Test Data:\n"
          ]
        },
        {
          "output_type": "display_data",
          "data": {
            "text/plain": [
              "     lot  wafer  x   y                ring                   spot  \\\n",
              "0  Lot_5    801  1  67  0,0815646268616209   0,000212543869360751   \n",
              "1  Lot_5    801  1  68  0,0804068600774856   2,88716473880083e-05   \n",
              "2  Lot_5    801  1  69  0,0832909076226504   4,31485239380615e-05   \n",
              "3  Lot_5    801  1  70  0,0811184587796342  -5,22432661390929e-05   \n",
              "4  Lot_5    801  1  71  0,0803892533800839   0,000300180920221645   \n",
              "\n",
              "               trend            twospots               crescent  \\\n",
              "0  0,507566413742191  0,0205134400709553  -0,000525905406861593   \n",
              "1  0,528583809149706  0,0210471241841105    -0,0108790503669245   \n",
              "2  0,498000133093142  0,0211853885594444    0,00589031168010191   \n",
              "3  0,532267673082906  0,0228424288133956   -0,00120256758168395   \n",
              "4  0,544995893302162  0,0224363081417157   -0,00833773056013449   \n",
              "\n",
              "            ring_pure             spot_pure         trend_pure  \\\n",
              "0  0,0781820391290924  2,03923375035647e-14  0,511632066832587   \n",
              "1  0,0785869843991606  3,80980481681389e-14  0,511632066832587   \n",
              "2  0,0789058795055616  7,04684670832181e-14  0,511632066832587   \n",
              "3  0,0791526100005659  1,29045611354418e-13  0,511632066832587   \n",
              "4  0,0793398638677927  2,33963814845839e-13  0,511632066832587   \n",
              "\n",
              "        twospots_pure          crescent_pure  \n",
              "0  0,0206508244731195  -4,84314598172959e-17  \n",
              "1  0,0211663791263623  -5,07606418493978e-17  \n",
              "2  0,0216543026053096  -5,29028513056874e-17  \n",
              "3  0,0221140315856408  -5,56129609519792e-17  \n",
              "4  0,0225452766877449  -5,76665485366261e-17  "
            ],
            "text/html": [
              "\n",
              "  <div id=\"df-4c52505c-d77f-4ffd-8cdb-02dda5869e93\" class=\"colab-df-container\">\n",
              "    <div>\n",
              "<style scoped>\n",
              "    .dataframe tbody tr th:only-of-type {\n",
              "        vertical-align: middle;\n",
              "    }\n",
              "\n",
              "    .dataframe tbody tr th {\n",
              "        vertical-align: top;\n",
              "    }\n",
              "\n",
              "    .dataframe thead th {\n",
              "        text-align: right;\n",
              "    }\n",
              "</style>\n",
              "<table border=\"1\" class=\"dataframe\">\n",
              "  <thead>\n",
              "    <tr style=\"text-align: right;\">\n",
              "      <th></th>\n",
              "      <th>lot</th>\n",
              "      <th>wafer</th>\n",
              "      <th>x</th>\n",
              "      <th>y</th>\n",
              "      <th>ring</th>\n",
              "      <th>spot</th>\n",
              "      <th>trend</th>\n",
              "      <th>twospots</th>\n",
              "      <th>crescent</th>\n",
              "      <th>ring_pure</th>\n",
              "      <th>spot_pure</th>\n",
              "      <th>trend_pure</th>\n",
              "      <th>twospots_pure</th>\n",
              "      <th>crescent_pure</th>\n",
              "    </tr>\n",
              "  </thead>\n",
              "  <tbody>\n",
              "    <tr>\n",
              "      <th>0</th>\n",
              "      <td>Lot_5</td>\n",
              "      <td>801</td>\n",
              "      <td>1</td>\n",
              "      <td>67</td>\n",
              "      <td>0,0815646268616209</td>\n",
              "      <td>0,000212543869360751</td>\n",
              "      <td>0,507566413742191</td>\n",
              "      <td>0,0205134400709553</td>\n",
              "      <td>-0,000525905406861593</td>\n",
              "      <td>0,0781820391290924</td>\n",
              "      <td>2,03923375035647e-14</td>\n",
              "      <td>0,511632066832587</td>\n",
              "      <td>0,0206508244731195</td>\n",
              "      <td>-4,84314598172959e-17</td>\n",
              "    </tr>\n",
              "    <tr>\n",
              "      <th>1</th>\n",
              "      <td>Lot_5</td>\n",
              "      <td>801</td>\n",
              "      <td>1</td>\n",
              "      <td>68</td>\n",
              "      <td>0,0804068600774856</td>\n",
              "      <td>2,88716473880083e-05</td>\n",
              "      <td>0,528583809149706</td>\n",
              "      <td>0,0210471241841105</td>\n",
              "      <td>-0,0108790503669245</td>\n",
              "      <td>0,0785869843991606</td>\n",
              "      <td>3,80980481681389e-14</td>\n",
              "      <td>0,511632066832587</td>\n",
              "      <td>0,0211663791263623</td>\n",
              "      <td>-5,07606418493978e-17</td>\n",
              "    </tr>\n",
              "    <tr>\n",
              "      <th>2</th>\n",
              "      <td>Lot_5</td>\n",
              "      <td>801</td>\n",
              "      <td>1</td>\n",
              "      <td>69</td>\n",
              "      <td>0,0832909076226504</td>\n",
              "      <td>4,31485239380615e-05</td>\n",
              "      <td>0,498000133093142</td>\n",
              "      <td>0,0211853885594444</td>\n",
              "      <td>0,00589031168010191</td>\n",
              "      <td>0,0789058795055616</td>\n",
              "      <td>7,04684670832181e-14</td>\n",
              "      <td>0,511632066832587</td>\n",
              "      <td>0,0216543026053096</td>\n",
              "      <td>-5,29028513056874e-17</td>\n",
              "    </tr>\n",
              "    <tr>\n",
              "      <th>3</th>\n",
              "      <td>Lot_5</td>\n",
              "      <td>801</td>\n",
              "      <td>1</td>\n",
              "      <td>70</td>\n",
              "      <td>0,0811184587796342</td>\n",
              "      <td>-5,22432661390929e-05</td>\n",
              "      <td>0,532267673082906</td>\n",
              "      <td>0,0228424288133956</td>\n",
              "      <td>-0,00120256758168395</td>\n",
              "      <td>0,0791526100005659</td>\n",
              "      <td>1,29045611354418e-13</td>\n",
              "      <td>0,511632066832587</td>\n",
              "      <td>0,0221140315856408</td>\n",
              "      <td>-5,56129609519792e-17</td>\n",
              "    </tr>\n",
              "    <tr>\n",
              "      <th>4</th>\n",
              "      <td>Lot_5</td>\n",
              "      <td>801</td>\n",
              "      <td>1</td>\n",
              "      <td>71</td>\n",
              "      <td>0,0803892533800839</td>\n",
              "      <td>0,000300180920221645</td>\n",
              "      <td>0,544995893302162</td>\n",
              "      <td>0,0224363081417157</td>\n",
              "      <td>-0,00833773056013449</td>\n",
              "      <td>0,0793398638677927</td>\n",
              "      <td>2,33963814845839e-13</td>\n",
              "      <td>0,511632066832587</td>\n",
              "      <td>0,0225452766877449</td>\n",
              "      <td>-5,76665485366261e-17</td>\n",
              "    </tr>\n",
              "  </tbody>\n",
              "</table>\n",
              "</div>\n",
              "    <div class=\"colab-df-buttons\">\n",
              "\n",
              "  <div class=\"colab-df-container\">\n",
              "    <button class=\"colab-df-convert\" onclick=\"convertToInteractive('df-4c52505c-d77f-4ffd-8cdb-02dda5869e93')\"\n",
              "            title=\"Convert this dataframe to an interactive table.\"\n",
              "            style=\"display:none;\">\n",
              "\n",
              "  <svg xmlns=\"http://www.w3.org/2000/svg\" height=\"24px\" viewBox=\"0 -960 960 960\">\n",
              "    <path d=\"M120-120v-720h720v720H120Zm60-500h600v-160H180v160Zm220 220h160v-160H400v160Zm0 220h160v-160H400v160ZM180-400h160v-160H180v160Zm440 0h160v-160H620v160ZM180-180h160v-160H180v160Zm440 0h160v-160H620v160Z\"/>\n",
              "  </svg>\n",
              "    </button>\n",
              "\n",
              "  <style>\n",
              "    .colab-df-container {\n",
              "      display:flex;\n",
              "      gap: 12px;\n",
              "    }\n",
              "\n",
              "    .colab-df-convert {\n",
              "      background-color: #E8F0FE;\n",
              "      border: none;\n",
              "      border-radius: 50%;\n",
              "      cursor: pointer;\n",
              "      display: none;\n",
              "      fill: #1967D2;\n",
              "      height: 32px;\n",
              "      padding: 0 0 0 0;\n",
              "      width: 32px;\n",
              "    }\n",
              "\n",
              "    .colab-df-convert:hover {\n",
              "      background-color: #E2EBFA;\n",
              "      box-shadow: 0px 1px 2px rgba(60, 64, 67, 0.3), 0px 1px 3px 1px rgba(60, 64, 67, 0.15);\n",
              "      fill: #174EA6;\n",
              "    }\n",
              "\n",
              "    .colab-df-buttons div {\n",
              "      margin-bottom: 4px;\n",
              "    }\n",
              "\n",
              "    [theme=dark] .colab-df-convert {\n",
              "      background-color: #3B4455;\n",
              "      fill: #D2E3FC;\n",
              "    }\n",
              "\n",
              "    [theme=dark] .colab-df-convert:hover {\n",
              "      background-color: #434B5C;\n",
              "      box-shadow: 0px 1px 3px 1px rgba(0, 0, 0, 0.15);\n",
              "      filter: drop-shadow(0px 1px 2px rgba(0, 0, 0, 0.3));\n",
              "      fill: #FFFFFF;\n",
              "    }\n",
              "  </style>\n",
              "\n",
              "    <script>\n",
              "      const buttonEl =\n",
              "        document.querySelector('#df-4c52505c-d77f-4ffd-8cdb-02dda5869e93 button.colab-df-convert');\n",
              "      buttonEl.style.display =\n",
              "        google.colab.kernel.accessAllowed ? 'block' : 'none';\n",
              "\n",
              "      async function convertToInteractive(key) {\n",
              "        const element = document.querySelector('#df-4c52505c-d77f-4ffd-8cdb-02dda5869e93');\n",
              "        const dataTable =\n",
              "          await google.colab.kernel.invokeFunction('convertToInteractive',\n",
              "                                                    [key], {});\n",
              "        if (!dataTable) return;\n",
              "\n",
              "        const docLinkHtml = 'Like what you see? Visit the ' +\n",
              "          '<a target=\"_blank\" href=https://colab.research.google.com/notebooks/data_table.ipynb>data table notebook</a>'\n",
              "          + ' to learn more about interactive tables.';\n",
              "        element.innerHTML = '';\n",
              "        dataTable['output_type'] = 'display_data';\n",
              "        await google.colab.output.renderOutput(dataTable, element);\n",
              "        const docLink = document.createElement('div');\n",
              "        docLink.innerHTML = docLinkHtml;\n",
              "        element.appendChild(docLink);\n",
              "      }\n",
              "    </script>\n",
              "  </div>\n",
              "\n",
              "\n",
              "    <div id=\"df-5153e143-66ca-4859-ba9b-f9a998da232c\">\n",
              "      <button class=\"colab-df-quickchart\" onclick=\"quickchart('df-5153e143-66ca-4859-ba9b-f9a998da232c')\"\n",
              "                title=\"Suggest charts\"\n",
              "                style=\"display:none;\">\n",
              "\n",
              "<svg xmlns=\"http://www.w3.org/2000/svg\" height=\"24px\"viewBox=\"0 0 24 24\"\n",
              "     width=\"24px\">\n",
              "    <g>\n",
              "        <path d=\"M19 3H5c-1.1 0-2 .9-2 2v14c0 1.1.9 2 2 2h14c1.1 0 2-.9 2-2V5c0-1.1-.9-2-2-2zM9 17H7v-7h2v7zm4 0h-2V7h2v10zm4 0h-2v-4h2v4z\"/>\n",
              "    </g>\n",
              "</svg>\n",
              "      </button>\n",
              "\n",
              "<style>\n",
              "  .colab-df-quickchart {\n",
              "      --bg-color: #E8F0FE;\n",
              "      --fill-color: #1967D2;\n",
              "      --hover-bg-color: #E2EBFA;\n",
              "      --hover-fill-color: #174EA6;\n",
              "      --disabled-fill-color: #AAA;\n",
              "      --disabled-bg-color: #DDD;\n",
              "  }\n",
              "\n",
              "  [theme=dark] .colab-df-quickchart {\n",
              "      --bg-color: #3B4455;\n",
              "      --fill-color: #D2E3FC;\n",
              "      --hover-bg-color: #434B5C;\n",
              "      --hover-fill-color: #FFFFFF;\n",
              "      --disabled-bg-color: #3B4455;\n",
              "      --disabled-fill-color: #666;\n",
              "  }\n",
              "\n",
              "  .colab-df-quickchart {\n",
              "    background-color: var(--bg-color);\n",
              "    border: none;\n",
              "    border-radius: 50%;\n",
              "    cursor: pointer;\n",
              "    display: none;\n",
              "    fill: var(--fill-color);\n",
              "    height: 32px;\n",
              "    padding: 0;\n",
              "    width: 32px;\n",
              "  }\n",
              "\n",
              "  .colab-df-quickchart:hover {\n",
              "    background-color: var(--hover-bg-color);\n",
              "    box-shadow: 0 1px 2px rgba(60, 64, 67, 0.3), 0 1px 3px 1px rgba(60, 64, 67, 0.15);\n",
              "    fill: var(--button-hover-fill-color);\n",
              "  }\n",
              "\n",
              "  .colab-df-quickchart-complete:disabled,\n",
              "  .colab-df-quickchart-complete:disabled:hover {\n",
              "    background-color: var(--disabled-bg-color);\n",
              "    fill: var(--disabled-fill-color);\n",
              "    box-shadow: none;\n",
              "  }\n",
              "\n",
              "  .colab-df-spinner {\n",
              "    border: 2px solid var(--fill-color);\n",
              "    border-color: transparent;\n",
              "    border-bottom-color: var(--fill-color);\n",
              "    animation:\n",
              "      spin 1s steps(1) infinite;\n",
              "  }\n",
              "\n",
              "  @keyframes spin {\n",
              "    0% {\n",
              "      border-color: transparent;\n",
              "      border-bottom-color: var(--fill-color);\n",
              "      border-left-color: var(--fill-color);\n",
              "    }\n",
              "    20% {\n",
              "      border-color: transparent;\n",
              "      border-left-color: var(--fill-color);\n",
              "      border-top-color: var(--fill-color);\n",
              "    }\n",
              "    30% {\n",
              "      border-color: transparent;\n",
              "      border-left-color: var(--fill-color);\n",
              "      border-top-color: var(--fill-color);\n",
              "      border-right-color: var(--fill-color);\n",
              "    }\n",
              "    40% {\n",
              "      border-color: transparent;\n",
              "      border-right-color: var(--fill-color);\n",
              "      border-top-color: var(--fill-color);\n",
              "    }\n",
              "    60% {\n",
              "      border-color: transparent;\n",
              "      border-right-color: var(--fill-color);\n",
              "    }\n",
              "    80% {\n",
              "      border-color: transparent;\n",
              "      border-right-color: var(--fill-color);\n",
              "      border-bottom-color: var(--fill-color);\n",
              "    }\n",
              "    90% {\n",
              "      border-color: transparent;\n",
              "      border-bottom-color: var(--fill-color);\n",
              "    }\n",
              "  }\n",
              "</style>\n",
              "\n",
              "      <script>\n",
              "        async function quickchart(key) {\n",
              "          const quickchartButtonEl =\n",
              "            document.querySelector('#' + key + ' button');\n",
              "          quickchartButtonEl.disabled = true;  // To prevent multiple clicks.\n",
              "          quickchartButtonEl.classList.add('colab-df-spinner');\n",
              "          try {\n",
              "            const charts = await google.colab.kernel.invokeFunction(\n",
              "                'suggestCharts', [key], {});\n",
              "          } catch (error) {\n",
              "            console.error('Error during call to suggestCharts:', error);\n",
              "          }\n",
              "          quickchartButtonEl.classList.remove('colab-df-spinner');\n",
              "          quickchartButtonEl.classList.add('colab-df-quickchart-complete');\n",
              "        }\n",
              "        (() => {\n",
              "          let quickchartButtonEl =\n",
              "            document.querySelector('#df-5153e143-66ca-4859-ba9b-f9a998da232c button');\n",
              "          quickchartButtonEl.style.display =\n",
              "            google.colab.kernel.accessAllowed ? 'block' : 'none';\n",
              "        })();\n",
              "      </script>\n",
              "    </div>\n",
              "\n",
              "    </div>\n",
              "  </div>\n"
            ],
            "application/vnd.google.colaboratory.intrinsic+json": {
              "type": "dataframe",
              "summary": "{\n  \"name\": \"    test_df = None\",\n  \"rows\": 5,\n  \"fields\": [\n    {\n      \"column\": \"lot\",\n      \"properties\": {\n        \"dtype\": \"category\",\n        \"num_unique_values\": 1,\n        \"samples\": [\n          \"Lot_5\"\n        ],\n        \"semantic_type\": \"\",\n        \"description\": \"\"\n      }\n    },\n    {\n      \"column\": \"wafer\",\n      \"properties\": {\n        \"dtype\": \"number\",\n        \"std\": 0,\n        \"min\": 801,\n        \"max\": 801,\n        \"num_unique_values\": 1,\n        \"samples\": [\n          801\n        ],\n        \"semantic_type\": \"\",\n        \"description\": \"\"\n      }\n    },\n    {\n      \"column\": \"x\",\n      \"properties\": {\n        \"dtype\": \"number\",\n        \"std\": 0,\n        \"min\": 1,\n        \"max\": 1,\n        \"num_unique_values\": 1,\n        \"samples\": [\n          1\n        ],\n        \"semantic_type\": \"\",\n        \"description\": \"\"\n      }\n    },\n    {\n      \"column\": \"y\",\n      \"properties\": {\n        \"dtype\": \"number\",\n        \"std\": 1,\n        \"min\": 67,\n        \"max\": 71,\n        \"num_unique_values\": 5,\n        \"samples\": [\n          68\n        ],\n        \"semantic_type\": \"\",\n        \"description\": \"\"\n      }\n    },\n    {\n      \"column\": \"ring\",\n      \"properties\": {\n        \"dtype\": \"string\",\n        \"num_unique_values\": 5,\n        \"samples\": [\n          \"0,0804068600774856\"\n        ],\n        \"semantic_type\": \"\",\n        \"description\": \"\"\n      }\n    },\n    {\n      \"column\": \"spot\",\n      \"properties\": {\n        \"dtype\": \"string\",\n        \"num_unique_values\": 5,\n        \"samples\": [\n          \"2,88716473880083e-05\"\n        ],\n        \"semantic_type\": \"\",\n        \"description\": \"\"\n      }\n    },\n    {\n      \"column\": \"trend\",\n      \"properties\": {\n        \"dtype\": \"string\",\n        \"num_unique_values\": 5,\n        \"samples\": [\n          \"0,528583809149706\"\n        ],\n        \"semantic_type\": \"\",\n        \"description\": \"\"\n      }\n    },\n    {\n      \"column\": \"twospots\",\n      \"properties\": {\n        \"dtype\": \"string\",\n        \"num_unique_values\": 5,\n        \"samples\": [\n          \"0,0210471241841105\"\n        ],\n        \"semantic_type\": \"\",\n        \"description\": \"\"\n      }\n    },\n    {\n      \"column\": \"crescent\",\n      \"properties\": {\n        \"dtype\": \"string\",\n        \"num_unique_values\": 5,\n        \"samples\": [\n          \"-0,0108790503669245\"\n        ],\n        \"semantic_type\": \"\",\n        \"description\": \"\"\n      }\n    },\n    {\n      \"column\": \"ring_pure\",\n      \"properties\": {\n        \"dtype\": \"string\",\n        \"num_unique_values\": 5,\n        \"samples\": [\n          \"0,0785869843991606\"\n        ],\n        \"semantic_type\": \"\",\n        \"description\": \"\"\n      }\n    },\n    {\n      \"column\": \"spot_pure\",\n      \"properties\": {\n        \"dtype\": \"string\",\n        \"num_unique_values\": 5,\n        \"samples\": [\n          \"3,80980481681389e-14\"\n        ],\n        \"semantic_type\": \"\",\n        \"description\": \"\"\n      }\n    },\n    {\n      \"column\": \"trend_pure\",\n      \"properties\": {\n        \"dtype\": \"category\",\n        \"num_unique_values\": 1,\n        \"samples\": [\n          \"0,511632066832587\"\n        ],\n        \"semantic_type\": \"\",\n        \"description\": \"\"\n      }\n    },\n    {\n      \"column\": \"twospots_pure\",\n      \"properties\": {\n        \"dtype\": \"string\",\n        \"num_unique_values\": 5,\n        \"samples\": [\n          \"0,0211663791263623\"\n        ],\n        \"semantic_type\": \"\",\n        \"description\": \"\"\n      }\n    },\n    {\n      \"column\": \"crescent_pure\",\n      \"properties\": {\n        \"dtype\": \"string\",\n        \"num_unique_values\": 5,\n        \"samples\": [\n          \"-5,07606418493978e-17\"\n        ],\n        \"semantic_type\": \"\",\n        \"description\": \"\"\n      }\n    }\n  ]\n}"
            }
          },
          "metadata": {}
        }
      ]
    },
    {
      "cell_type": "code",
      "metadata": {
        "colab": {
          "base_uri": "https://localhost:8080/"
        },
        "id": "1cddd7a5",
        "outputId": "6bd94a34-1275-417f-ca5d-5c9e74a04bd5"
      },
      "source": [
        "# Clean and Convert Test Data Types\n",
        "\n",
        "if 'test_df' in locals() and test_df is not None:\n",
        "    print(\"\\n[TESTING] Cleaning and converting data types for test data...\")\n",
        "    columns_to_convert = ['ring', 'spot', 'trend', 'twospots', 'crescent', 'ring_pure', 'spot_pure', 'trend_pure', 'twospots_pure', 'crescent_pure'] # Include pure columns for conversion\n",
        "    for col in columns_to_convert:\n",
        "        if col in test_df.columns and test_df[col].dtype == 'object':\n",
        "            test_df[col] = test_df[col].str.replace(',', '.').astype('float32') # Use float32 to save RAM\n",
        "\n",
        "    # Drop '_pure' columns as they are not needed for the analysis\n",
        "    pure_columns = [col for col in test_df.columns if '_pure' in col]\n",
        "    test_df = test_df.drop(columns=pure_columns + ['lot'], errors='ignore') # Use errors='ignore' if 'lot' might be missing"
      ],
      "execution_count": null,
      "outputs": [
        {
          "output_type": "stream",
          "name": "stdout",
          "text": [
            "\n",
            "[TESTING] Cleaning and converting data types for test data...\n"
          ]
        }
      ]
    },
    {
      "cell_type": "code",
      "metadata": {
        "colab": {
          "base_uri": "https://localhost:8080/"
        },
        "id": "53171536",
        "outputId": "18af4c6f-dca4-4c42-d101-e1d938eaf505"
      },
      "source": [
        "# Process Test Data Wafer by Wafer\n",
        "\n",
        "if 'test_df' in locals() and test_df is not None:\n",
        "    # --- Diagnostic: Check for duplicates before processing ---\n",
        "    print(\"\\n[TESTING] Checking for duplicate (x, y) pairs in test data per wafer...\")\n",
        "    duplicate_check = test_df.groupby('wafer').apply(lambda x: x.duplicated(subset=['x', 'y']).any())\n",
        "    wafers_with_duplicates = duplicate_check[duplicate_check].index.tolist()\n",
        "\n",
        "    if wafers_with_duplicates:\n",
        "        print(f\"[TESTING] Found duplicate (x, y) pairs in wafers: {wafers_with_duplicates[:10]}...\") # Print first 10 if many\n",
        "        print(\"[TESTING] These duplicates will be handled by process_wafer_to_images.\")\n",
        "    else:\n",
        "        print(\"[TESTING] No duplicate (x, y) pairs found in test data.\")\n",
        "\n",
        "    # --- Diagnostic: Check the number of unique wafers in the test set ---\n",
        "    num_test_wafers = test_df['wafer'].nunique()\n",
        "    print(f\"[TESTING] Number of unique wafers in test data: {num_test_wafers}\")\n",
        "\n",
        "\n",
        "    # Process the test dataframe into images and ground truth labels wafer by wafer\n",
        "    all_test_wafer_maps = []\n",
        "    all_test_labels = []\n",
        "\n",
        "    # Assuming pattern_types and labels_map are defined in a previous cell\n",
        "    # pattern_types = ['ring', 'spot', 'trend', 'twospots', 'crescent']\n",
        "    # labels_map = {name: i for i, name in enumerate(pattern_types)}\n",
        "\n",
        "    print(f\"[TESTING] Starting to process {num_test_wafers} unique test wafers...\")\n",
        "    for i, (wafer_id, group) in enumerate(test_df.groupby('wafer')):\n",
        "        if (i + 1) % 50 == 0:\n",
        "            print(f\"[TESTING]   Processed {i+1}/{num_test_wafers} test wafers...\")\n",
        "            gc.collect() # Explicit garbage collection periodically\n",
        "\n",
        "        w_maps, w_labels = process_wafer_to_images(group, pattern_types, labels_map)\n",
        "        if w_maps.size > 0:\n",
        "            all_test_wafer_maps.extend(w_maps)\n",
        "            all_test_labels.extend(w_labels)\n",
        "        else:\n",
        "             print(f\"[TESTING] Skipping test wafer {wafer_id} due to processing error or empty result.\")\n",
        "\n",
        "        del w_maps, w_labels # Explicitly delete temporary variables"
      ],
      "execution_count": null,
      "outputs": [
        {
          "output_type": "stream",
          "name": "stdout",
          "text": [
            "\n",
            "[TESTING] Checking for duplicate (x, y) pairs in test data per wafer...\n",
            "[TESTING] No duplicate (x, y) pairs found in test data.\n",
            "[TESTING] Number of unique wafers in test data: 200\n",
            "[TESTING] Starting to process 200 unique test wafers...\n",
            "[TESTING]   Processed 50/200 test wafers...\n",
            "[TESTING]   Processed 100/200 test wafers...\n",
            "[TESTING]   Processed 150/200 test wafers...\n",
            "[TESTING]   Processed 200/200 test wafers...\n"
          ]
        }
      ]
    },
    {
      "cell_type": "code",
      "metadata": {
        "colab": {
          "base_uri": "https://localhost:8080/"
        },
        "id": "24a52746",
        "outputId": "27e65462-449a-48b9-cf3e-ac8cc0b9cf06"
      },
      "source": [
        "# Final Conversion and Cleanup for Test Data\n",
        "\n",
        "if 'all_test_wafer_maps' in locals():\n",
        "    if all_test_wafer_maps:\n",
        "         test_images = np.array(all_test_wafer_maps)\n",
        "         test_labels_true = np.array(all_test_labels)\n",
        "\n",
        "         print(f\"\\n[TESTING] Test data reshaped successfully.\")\n",
        "         print(f\"[TESTING] Shape of test wafer maps tensor: {test_images.shape}\")\n",
        "         print(f\"[TESTING] Shape of test labels tensor: {test_labels_true.shape}\")\n",
        "    else:\n",
        "         print(\"\\n[TESTING] No test wafer maps were successfully processed.\")\n",
        "         test_images = np.array([])\n",
        "         test_labels_true = np.array([])\n",
        "\n",
        "\n",
        "    print(\"[TESTING] Clearing large test DataFrame from memory...\")\n",
        "    if 'test_df' in locals(): del test_df\n",
        "    if 'all_test_wafer_maps' in locals(): del all_test_wafer_maps\n",
        "    if 'all_test_labels' in locals(): del all_test_labels\n",
        "    gc.collect()"
      ],
      "execution_count": null,
      "outputs": [
        {
          "output_type": "stream",
          "name": "stdout",
          "text": [
            "\n",
            "[TESTING] Test data reshaped successfully.\n",
            "[TESTING] Shape of test wafer maps tensor: (1000, 194, 116)\n",
            "[TESTING] Shape of test labels tensor: (1000,)\n",
            "[TESTING] Clearing large test DataFrame from memory...\n"
          ]
        }
      ]
    },
    {
      "cell_type": "code",
      "metadata": {
        "colab": {
          "base_uri": "https://localhost:8080/"
        },
        "id": "1a70d174",
        "outputId": "10dcd1b2-bbba-4a92-f5ae-3158bbbf445d"
      },
      "source": [
        "# Prepare Test Data for Inference\n",
        "\n",
        "if 'test_images' in locals():\n",
        "    # Add channel dimension\n",
        "    test_images = np.expand_dims(test_images, axis=1)\n",
        "    print(f\"\\n[TESTING] Shape of test wafer maps after adding channel dimension: {test_images.shape}\")\n",
        "\n",
        "    # Convert to PyTorch tensor\n",
        "    X_test_tensor = torch.tensor(test_images, dtype=torch.float32)\n",
        "    y_test_tensor = torch.tensor(test_labels_true, dtype=torch.long) # Keep ground truth for evaluation\n",
        "\n",
        "    # Create a test dataset and dataloader\n",
        "    test_dataset = TensorDataset(X_test_tensor, y_test_tensor)\n",
        "    test_loader = DataLoader(test_dataset, batch_size=BATCH_SIZE, shuffle=False)\n",
        "\n",
        "    print(\"\\n[TESTING] PyTorch Test DataLoader created successfully.\")\n",
        "\n",
        "    # Free up numpy array memory\n",
        "    del test_images, test_labels_true\n",
        "    gc.collect()"
      ],
      "execution_count": null,
      "outputs": [
        {
          "output_type": "stream",
          "name": "stdout",
          "text": [
            "\n",
            "[TESTING] Shape of test wafer maps after adding channel dimension: (1000, 1, 194, 116)\n",
            "\n",
            "[TESTING] PyTorch Test DataLoader created successfully.\n"
          ]
        }
      ]
    },
    {
      "cell_type": "code",
      "metadata": {
        "colab": {
          "base_uri": "https://localhost:8080/",
          "height": 1000
        },
        "id": "3f9e03a3",
        "outputId": "453873f3-9e99-49b9-86f0-346dd90c9763"
      },
      "source": [
        "# Perform Inference and Evaluate on Test Data\n",
        "\n",
        "if 'test_loader' in locals() and 'MODEL_PATH' in locals() and 'device' in locals() and 'pattern_types' in locals() and 'labels_map' in locals():\n",
        "    print(\"\\n[TESTING] Performing inference on test data...\")\n",
        "    predicted_labels_test = perform_inference(test_loader, MODEL_PATH, device, num_classes=len(pattern_types))\n",
        "\n",
        "    # Evaluate performance on test set\n",
        "    print(\"\\n--- [TESTING] Model Evaluation on Test Data ---\")\n",
        "    # F1 Score (as required)\n",
        "    f1_test = f1_score(test_dataset.tensors[1].numpy(), predicted_labels_test, average='macro')\n",
        "    print(f\"\\n[TESTING] F1 Score (Macro) on Test Data: {f1_test:.4f}\")\n",
        "\n",
        "    print(\"\\n[TESTING] Classification Report on Test Data:\")\n",
        "    print(classification_report(test_dataset.tensors[1].numpy(), predicted_labels_test, target_names=pattern_types))\n",
        "\n",
        "    print(\"\\n[TESTING] Confusion Matrix on Test Data:\")\n",
        "    cm_test = confusion_matrix(test_dataset.tensors[1].numpy(), predicted_labels_test)\n",
        "    plt.figure(figsize=(10, 7))\n",
        "    sns.heatmap(cm_test, annot=True, fmt='d', cmap='Blues', xticklabels=pattern_types, yticklabels=pattern_types)\n",
        "    plt.xlabel('Predicted')\n",
        "    plt.ylabel('True')\n",
        "    plt.title('Confusion Matrix (Test Data)')\n",
        "    plt.show()\n",
        "\n",
        "else:\n",
        "    print(\"\\n[TESTING] Test loader, model path, device, or pattern types not available. Skipping test inference and evaluation.\")"
      ],
      "execution_count": null,
      "outputs": [
        {
          "output_type": "stream",
          "name": "stdout",
          "text": [
            "\n",
            "[TESTING] Performing inference on test data...\n",
            "\n",
            "--- [TESTING] Model Evaluation on Test Data ---\n",
            "\n",
            "[TESTING] F1 Score (Macro) on Test Data: 1.0000\n",
            "\n",
            "[TESTING] Classification Report on Test Data:\n",
            "              precision    recall  f1-score   support\n",
            "\n",
            "        ring       1.00      1.00      1.00       200\n",
            "        spot       1.00      1.00      1.00       200\n",
            "       trend       1.00      1.00      1.00       200\n",
            "    twospots       1.00      1.00      1.00       200\n",
            "    crescent       1.00      1.00      1.00       200\n",
            "\n",
            "    accuracy                           1.00      1000\n",
            "   macro avg       1.00      1.00      1.00      1000\n",
            "weighted avg       1.00      1.00      1.00      1000\n",
            "\n",
            "\n",
            "[TESTING] Confusion Matrix on Test Data:\n"
          ]
        },
        {
          "output_type": "display_data",
          "data": {
            "text/plain": [
              "<Figure size 1000x700 with 2 Axes>"
            ],
            "image/png": "[encoded data removed]"
          },
          "metadata": {}
        }
      ]
    },
    {
      "cell_type": "code",
      "source": [],
      "metadata": {
        "id": "i-1dMCG2a34n"
      },
      "execution_count": null,
      "outputs": []
    }
  ]
}